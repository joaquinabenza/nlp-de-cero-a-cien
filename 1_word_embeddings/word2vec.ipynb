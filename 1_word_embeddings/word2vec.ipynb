{
  "nbformat": 4,
  "nbformat_minor": 0,
  "metadata": {
    "colab": {
      "name": "Word2vec.ipynb",
      "provenance": [],
      "toc_visible": true,
      "include_colab_link": true
    },
    "kernelspec": {
      "name": "python3",
      "display_name": "Python 3"
    },
    "language_info": {
      "name": "python"
    }
  },
  "cells": [
    {
      "cell_type": "markdown",
      "metadata": {
        "id": "view-in-github",
        "colab_type": "text"
      },
      "source": [
        "<a href=\"https://colab.research.google.com/github/joaquinabenza/nlp-de-cero-a-cien/blob/main/1_word_embeddings/word2vec.ipynb\" target=\"_parent\"><img src=\"https://colab.research.google.com/assets/colab-badge.svg\" alt=\"Open In Colab\"/></a>"
      ]
    },
    {
      "cell_type": "markdown",
      "metadata": {
        "id": "XvNCXd9Dfqe1"
      },
      "source": [
        "# Word2vec con Gensim\n",
        "\n",
        "En este cuaderno de Jupyter vas a utilizar la biblioteca [Gensim](https://radimrehurek.com/gensim/index.html) para experimentar con word2vec. Este cuaderno está enfocado en la intuición de los conceptos y no en los detalles de implementación. Este cuaderno está inspirado en esta [guía](https://radimrehurek.com/gensim/auto_examples/tutorials/run_word2vec.html).\n",
        "\n",
        "## 1. Instalación y cargar el modelo"
      ]
    },
    {
      "cell_type": "code",
      "metadata": {
        "id": "zKIqnDXXfpiz"
      },
      "source": [
        "!pip install --upgrade gensim"
      ],
      "execution_count": null,
      "outputs": []
    },
    {
      "cell_type": "code",
      "metadata": {
        "id": "Sn7Q2jB3frOn"
      },
      "source": [
        "import gensim.downloader as api"
      ],
      "execution_count": null,
      "outputs": []
    },
    {
      "cell_type": "code",
      "metadata": {
        "id": "yBaT8djWkaZy"
      },
      "source": [
        "model = api.load('word2vec-google-news-300')"
      ],
      "execution_count": null,
      "outputs": []
    },
    {
      "cell_type": "markdown",
      "metadata": {
        "id": "nVZm7iTOoawW"
      },
      "source": [
        "## 2. Similitud de palabras\n",
        "\n",
        "En esta sección veremos cómo conseguir la similitud entre dos palabras utilizando un word embedding ya entrenado."
      ]
    },
    {
      "cell_type": "code",
      "metadata": {
        "id": "kOZfaelLoi4c",
        "colab": {
          "base_uri": "https://localhost:8080/"
        },
        "outputId": "4648b021-7419-4fba-df23-23c4c7365516"
      },
      "source": [
        "model.similarity(\"king\", \"queen\")"
      ],
      "execution_count": 13,
      "outputs": [
        {
          "output_type": "execute_result",
          "data": {
            "text/plain": [
              "0.6510957"
            ]
          },
          "metadata": {},
          "execution_count": 13
        }
      ]
    },
    {
      "cell_type": "code",
      "metadata": {
        "id": "BX-Kk9HZofuF"
      },
      "source": [
        "model.similarity(\"king\", \"man\")"
      ],
      "execution_count": null,
      "outputs": []
    },
    {
      "cell_type": "code",
      "metadata": {
        "id": "ypFK-pLrol3N"
      },
      "source": [
        "model.similarity(\"king\", \"potato\")"
      ],
      "execution_count": null,
      "outputs": []
    },
    {
      "cell_type": "code",
      "metadata": {
        "id": "rBWzZySFormq"
      },
      "source": [
        "model.similarity(\"king\", \"king\")"
      ],
      "execution_count": null,
      "outputs": []
    },
    {
      "cell_type": "markdown",
      "metadata": {
        "id": "9GijWs_tx83W"
      },
      "source": [
        "Ahora veremos cómo encontrar las palabras con mayor similitud al conjunto de palabras especificado."
      ]
    },
    {
      "cell_type": "code",
      "metadata": {
        "id": "ytELAWBLk2-6"
      },
      "source": [
        "model.most_similar([\"king\", \"queen\"], topn=5)"
      ],
      "execution_count": null,
      "outputs": []
    },
    {
      "cell_type": "code",
      "metadata": {
        "id": "7D4ZS7N3ovxB"
      },
      "source": [
        "model.most_similar([\"tomato\", \"carrot\"], topn=5)"
      ],
      "execution_count": null,
      "outputs": []
    },
    {
      "cell_type": "markdown",
      "metadata": {
        "id": "WZFlxKjOyBpu"
      },
      "source": [
        "Pero incluso puedes hacer cosas interesantes como ver qué palabra no corresponde a una lista."
      ]
    },
    {
      "cell_type": "code",
      "metadata": {
        "id": "8CrZdcBpn3pn"
      },
      "source": [
        "model.doesnt_match([\"summer\", \"fall\", \"spring\", \"air\"])"
      ],
      "execution_count": null,
      "outputs": []
    },
    {
      "cell_type": "markdown",
      "metadata": {
        "id": "Ko09hZ3dqMZ1"
      },
      "source": [
        "## Ejercicios\n",
        "\n",
        "1. Usa el modelo word2vec para hacer un ranking de las siguientes 15 palabras según su similitud con las palabras \"man\" y \"woman\". Para cada par, imprime su similitud."
      ]
    },
    {
      "cell_type": "code",
      "metadata": {
        "id": "vzZ1eD3PpT-d",
        "colab": {
          "base_uri": "https://localhost:8080/"
        },
        "outputId": "bb7e6aef-5141-4a03-e19b-13ddfb81f6cf"
      },
      "source": [
        "words = [\n",
        "\"wife\",\n",
        "\"husband\",\n",
        "\"child\",\n",
        "\"queen\",\n",
        "\"king\",\n",
        "\"man\",\n",
        "\"woman\",\n",
        "\"birth\",\n",
        "\"doctor\",\n",
        "\"nurse\",\n",
        "\"teacher\",\n",
        "\"professor\",\n",
        "\"engineer\",\n",
        "\"scientist\",\n",
        "\"president\"]\n",
        "word1 = \"man\"\n",
        "word2 = \"woman\"\n",
        "similarities = []\n",
        "for word in words:\n",
        "    sim1 = model.similarity(word, word1)\n",
        "    sim2 = model.similarity(word, word2)\n",
        "    similarities.append((word, sim1, sim2))\n",
        "\n",
        "similarities.sort(key=lambda x: x[1], reverse=True)\n",
        "print(f\"Ranking based on similarity to '{word1}':\")\n",
        "for word, sim_man, sim_woman in similarities:\n",
        "    print(f\"{word}: Similitud con '{word1}': {sim_man:.4f}, Similitud con '{word2}': {sim_woman:.4f}\")\n",
        "\n",
        "print(\"\\n\" + \"=\"*30 + \"\\n\")\n",
        "\n",
        "similarities.sort(key=lambda x: x[2], reverse=True)\n",
        "print(f\"Ranking based on similarity to '{word2}':\")\n",
        "for word, sim_man, sim_woman in similarities:\n",
        "    print(f\"{word}: Similitud con '{word1}': {sim_man:.4f}, Similitud con '{word2}': {sim_woman:.4f}\")"
      ],
      "execution_count": 14,
      "outputs": [
        {
          "output_type": "stream",
          "name": "stdout",
          "text": [
            "Ranking based on similarity to 'man':\n",
            "man: Similitud con 'man': 1.0000, Similitud con 'woman': 0.7664\n",
            "woman: Similitud con 'man': 0.7664, Similitud con 'woman': 1.0000\n",
            "husband: Similitud con 'man': 0.3450, Similitud con 'woman': 0.4928\n",
            "wife: Similitud con 'man': 0.3292, Similitud con 'woman': 0.4448\n",
            "child: Similitud con 'man': 0.3163, Similitud con 'woman': 0.4750\n",
            "doctor: Similitud con 'man': 0.3145, Similitud con 'woman': 0.3795\n",
            "nurse: Similitud con 'man': 0.2547, Similitud con 'woman': 0.4414\n",
            "teacher: Similitud con 'man': 0.2500, Similitud con 'woman': 0.3136\n",
            "king: Similitud con 'man': 0.2294, Similitud con 'woman': 0.1285\n",
            "queen: Similitud con 'man': 0.1666, Similitud con 'woman': 0.3162\n",
            "scientist: Similitud con 'man': 0.1582, Similitud con 'woman': 0.1549\n",
            "engineer: Similitud con 'man': 0.1513, Similitud con 'woman': 0.0944\n",
            "birth: Similitud con 'man': 0.1108, Similitud con 'woman': 0.2147\n",
            "professor: Similitud con 'man': 0.0942, Similitud con 'woman': 0.1308\n",
            "president: Similitud con 'man': 0.0284, Similitud con 'woman': 0.0627\n",
            "\n",
            "==============================\n",
            "\n",
            "Ranking based on similarity to 'woman':\n",
            "woman: Similitud con 'man': 0.7664, Similitud con 'woman': 1.0000\n",
            "man: Similitud con 'man': 1.0000, Similitud con 'woman': 0.7664\n",
            "husband: Similitud con 'man': 0.3450, Similitud con 'woman': 0.4928\n",
            "child: Similitud con 'man': 0.3163, Similitud con 'woman': 0.4750\n",
            "wife: Similitud con 'man': 0.3292, Similitud con 'woman': 0.4448\n",
            "nurse: Similitud con 'man': 0.2547, Similitud con 'woman': 0.4414\n",
            "doctor: Similitud con 'man': 0.3145, Similitud con 'woman': 0.3795\n",
            "queen: Similitud con 'man': 0.1666, Similitud con 'woman': 0.3162\n",
            "teacher: Similitud con 'man': 0.2500, Similitud con 'woman': 0.3136\n",
            "birth: Similitud con 'man': 0.1108, Similitud con 'woman': 0.2147\n",
            "scientist: Similitud con 'man': 0.1582, Similitud con 'woman': 0.1549\n",
            "professor: Similitud con 'man': 0.0942, Similitud con 'woman': 0.1308\n",
            "king: Similitud con 'man': 0.2294, Similitud con 'woman': 0.1285\n",
            "engineer: Similitud con 'man': 0.1513, Similitud con 'woman': 0.0944\n",
            "president: Similitud con 'man': 0.0284, Similitud con 'woman': 0.0627\n"
          ]
        }
      ]
    },
    {
      "cell_type": "markdown",
      "metadata": {
        "id": "EKamywnxqxJJ"
      },
      "source": [
        "**2. Completa las siguientes analogías por tu cuenta (sin usar el modelo)**\n",
        "\n",
        "a. king is to throne as judge is to _\n",
        "\n",
        "b. giant is to dwarf as genius is to _\n",
        "\n",
        "c. French is to France as Spaniard is to _\n",
        "\n",
        "d. bad is to good as sad is to _\n",
        "\n",
        "e. nurse is to hospital as teacher is to _\n",
        "\n",
        "f. universe is to planet as house is to _"
      ]
    },
    {
      "cell_type": "markdown",
      "metadata": {
        "id": "VcNRxHuZrXAM"
      },
      "source": [
        "**3. Ahora completa las analogías usando un modelo word2vec**\n",
        "\n",
        "Aquí hay un ejemplo de cómo hacerlo. Puedes resolver analogías como \"A es a B como C es a _\" haciendo A + C - B."
      ]
    },
    {
      "cell_type": "code",
      "metadata": {
        "id": "K4kF08h4qhxM",
        "colab": {
          "base_uri": "https://localhost:8080/"
        },
        "outputId": "4b6d2b4a-525f-4179-e5fc-fcaaed87f7e3"
      },
      "source": [
        "# man is to woman as king is to ___?\n",
        "model.most_similar(positive=[\"king\", \"woman\"], negative=[\"man\"], topn=1)"
      ],
      "execution_count": 19,
      "outputs": [
        {
          "output_type": "execute_result",
          "data": {
            "text/plain": [
              "[('queen', 0.7118193507194519)]"
            ]
          },
          "metadata": {},
          "execution_count": 19
        }
      ]
    },
    {
      "cell_type": "code",
      "metadata": {
        "id": "DiPbbGsori48",
        "colab": {
          "base_uri": "https://localhost:8080/"
        },
        "outputId": "c3a9598d-8748-435e-bd90-96b40bc43049"
      },
      "source": [
        "# us is to burger as italy is to ___?\n",
        "model.most_similar(positive=[\"Mexico\", \"burger\"], negative=[\"USA\"], topn=1)"
      ],
      "execution_count": 18,
      "outputs": [
        {
          "output_type": "execute_result",
          "data": {
            "text/plain": [
              "[('taco', 0.6266060471534729)]"
            ]
          },
          "metadata": {},
          "execution_count": 18
        }
      ]
    },
    {
      "cell_type": "code",
      "source": [
        "model.most_similar(positive=[\"king\", \"judge\"], negative=[\"throne\"], topn=1)\n"
      ],
      "metadata": {
        "id": "ip3r4-Ra7k8W",
        "outputId": "8bbbb40b-ea07-4209-fe99-5327e4cc3a2f",
        "colab": {
          "base_uri": "https://localhost:8080/"
        }
      },
      "execution_count": 26,
      "outputs": [
        {
          "output_type": "execute_result",
          "data": {
            "text/plain": [
              "[('appeals_court', 0.5385673642158508)]"
            ]
          },
          "metadata": {},
          "execution_count": 26
        }
      ]
    },
    {
      "cell_type": "code",
      "source": [
        "model.most_similar(positive=[\"giant\", \"genius\"], negative=[\"dwarf\"], topn=1)\n"
      ],
      "metadata": {
        "id": "oxAHFhMD9L9u",
        "outputId": "0682f724-75fc-4b5e-87f0-4d69826a41f6",
        "colab": {
          "base_uri": "https://localhost:8080/"
        }
      },
      "execution_count": 25,
      "outputs": [
        {
          "output_type": "execute_result",
          "data": {
            "text/plain": [
              "[('wizardry', 0.5062874555587769)]"
            ]
          },
          "metadata": {},
          "execution_count": 25
        }
      ]
    },
    {
      "cell_type": "code",
      "source": [
        "model.most_similar(positive=[\"French\", \"Spaniard\"], negative=[\"France\"], topn=1)\n"
      ],
      "metadata": {
        "id": "ZQFsfVvZ8aAs",
        "outputId": "328da25e-38e4-4ee9-a2dd-4f406dcae1cc",
        "colab": {
          "base_uri": "https://localhost:8080/"
        }
      },
      "execution_count": 27,
      "outputs": [
        {
          "output_type": "execute_result",
          "data": {
            "text/plain": [
              "[('Frenchman', 0.6701309084892273)]"
            ]
          },
          "metadata": {},
          "execution_count": 27
        }
      ]
    },
    {
      "cell_type": "code",
      "source": [
        "model.most_similar(positive=[\"bad\", \"sad\"], negative=[\"good\"], topn=1)\n"
      ],
      "metadata": {
        "id": "Sg70_O4N9RN4",
        "outputId": "5405dbe5-fd32-47f3-b187-e6fa8a222362",
        "colab": {
          "base_uri": "https://localhost:8080/"
        }
      },
      "execution_count": 28,
      "outputs": [
        {
          "output_type": "execute_result",
          "data": {
            "text/plain": [
              "[('saddening', 0.6041171550750732)]"
            ]
          },
          "metadata": {},
          "execution_count": 28
        }
      ]
    },
    {
      "cell_type": "code",
      "source": [
        "model.most_similar(positive=[\"nurse\", \"teacher\"], negative=[\"hospital\"], topn=1)\n"
      ],
      "metadata": {
        "id": "TviW4TUg9SlP",
        "outputId": "6d86f3d2-9aa8-4ac5-ee1e-104de913be82",
        "colab": {
          "base_uri": "https://localhost:8080/"
        }
      },
      "execution_count": 29,
      "outputs": [
        {
          "output_type": "execute_result",
          "data": {
            "text/plain": [
              "[('guidance_counselor', 0.6577334403991699)]"
            ]
          },
          "metadata": {},
          "execution_count": 29
        }
      ]
    },
    {
      "cell_type": "code",
      "source": [
        "model.most_similar(positive=[\"universe\", \"house\"], negative=[\"planet\"], topn=1)"
      ],
      "metadata": {
        "id": "xk_a3_ag9The",
        "outputId": "595f9d48-76bd-4a5e-ec2d-7a654bf80c9b",
        "colab": {
          "base_uri": "https://localhost:8080/"
        }
      },
      "execution_count": 30,
      "outputs": [
        {
          "output_type": "execute_result",
          "data": {
            "text/plain": [
              "[('houses', 0.5309091210365295)]"
            ]
          },
          "metadata": {},
          "execution_count": 30
        }
      ]
    },
    {
      "cell_type": "code",
      "metadata": {
        "id": "4ee435b3",
        "outputId": "faa2e77e-5353-4419-e4c3-11ba10930093",
        "colab": {
          "base_uri": "https://localhost:8080/"
        }
      },
      "source": [
        "word1 = \"man\"\n",
        "word2 = \"woman\"\n",
        "similarities = []\n",
        "for word in words:\n",
        "    sim1 = model.similarity(word, word1)\n",
        "    sim2 = model.similarity(word, word2)\n",
        "    similarities.append((word, sim1, sim2))\n",
        "\n",
        "similarities.sort(key=lambda x: x[1], reverse=True)\n",
        "print(f\"Ranking based on similarity to '{word1}':\")\n",
        "for word, sim_man, sim_woman in similarities:\n",
        "    print(f\"{word}: Similitud con '{word1}': {sim_man:.4f}, Similitud con '{word2}': {sim_woman:.4f}\")\n",
        "\n",
        "print(\"\\n\" + \"=\"*30 + \"\\n\")\n",
        "\n",
        "similarities.sort(key=lambda x: x[2], reverse=True)\n",
        "print(f\"Ranking based on similarity to '{word2}':\")\n",
        "for word, sim_man, sim_woman in similarities:\n",
        "    print(f\"{word}: Similitud con '{word1}': {sim_man:.4f}, Similitud con '{word2}': {sim_woman:.4f}\")"
      ],
      "execution_count": 15,
      "outputs": [
        {
          "output_type": "stream",
          "name": "stdout",
          "text": [
            "Ranking based on similarity to 'man':\n",
            "man: Similitud con 'man': 1.0000, Similitud con 'woman': 0.7664\n",
            "woman: Similitud con 'man': 0.7664, Similitud con 'woman': 1.0000\n",
            "husband: Similitud con 'man': 0.3450, Similitud con 'woman': 0.4928\n",
            "wife: Similitud con 'man': 0.3292, Similitud con 'woman': 0.4448\n",
            "child: Similitud con 'man': 0.3163, Similitud con 'woman': 0.4750\n",
            "doctor: Similitud con 'man': 0.3145, Similitud con 'woman': 0.3795\n",
            "nurse: Similitud con 'man': 0.2547, Similitud con 'woman': 0.4414\n",
            "teacher: Similitud con 'man': 0.2500, Similitud con 'woman': 0.3136\n",
            "king: Similitud con 'man': 0.2294, Similitud con 'woman': 0.1285\n",
            "queen: Similitud con 'man': 0.1666, Similitud con 'woman': 0.3162\n",
            "scientist: Similitud con 'man': 0.1582, Similitud con 'woman': 0.1549\n",
            "engineer: Similitud con 'man': 0.1513, Similitud con 'woman': 0.0944\n",
            "birth: Similitud con 'man': 0.1108, Similitud con 'woman': 0.2147\n",
            "professor: Similitud con 'man': 0.0942, Similitud con 'woman': 0.1308\n",
            "president: Similitud con 'man': 0.0284, Similitud con 'woman': 0.0627\n",
            "\n",
            "==============================\n",
            "\n",
            "Ranking based on similarity to 'woman':\n",
            "woman: Similitud con 'man': 0.7664, Similitud con 'woman': 1.0000\n",
            "man: Similitud con 'man': 1.0000, Similitud con 'woman': 0.7664\n",
            "husband: Similitud con 'man': 0.3450, Similitud con 'woman': 0.4928\n",
            "child: Similitud con 'man': 0.3163, Similitud con 'woman': 0.4750\n",
            "wife: Similitud con 'man': 0.3292, Similitud con 'woman': 0.4448\n",
            "nurse: Similitud con 'man': 0.2547, Similitud con 'woman': 0.4414\n",
            "doctor: Similitud con 'man': 0.3145, Similitud con 'woman': 0.3795\n",
            "queen: Similitud con 'man': 0.1666, Similitud con 'woman': 0.3162\n",
            "teacher: Similitud con 'man': 0.2500, Similitud con 'woman': 0.3136\n",
            "birth: Similitud con 'man': 0.1108, Similitud con 'woman': 0.2147\n",
            "scientist: Similitud con 'man': 0.1582, Similitud con 'woman': 0.1549\n",
            "professor: Similitud con 'man': 0.0942, Similitud con 'woman': 0.1308\n",
            "king: Similitud con 'man': 0.2294, Similitud con 'woman': 0.1285\n",
            "engineer: Similitud con 'man': 0.1513, Similitud con 'woman': 0.0944\n",
            "president: Similitud con 'man': 0.0284, Similitud con 'woman': 0.0627\n"
          ]
        }
      ]
    }
  ]
}